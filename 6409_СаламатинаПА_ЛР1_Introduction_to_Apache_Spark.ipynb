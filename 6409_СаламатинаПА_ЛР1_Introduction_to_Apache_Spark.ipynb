{
  "cells": [
    {
      "cell_type": "code",
      "execution_count": 1,
      "metadata": {
        "id": "rM9Z38UNjAIf"
      },
      "outputs": [],
      "source": [
        "!apt-get install openjdk-8-jdk-headless -qq > /dev/null\n",
        "!wget -q http://archive.apache.org/dist/spark/spark-3.1.1/spark-3.1.1-bin-hadoop3.2.tgz\n",
        "!tar xf spark-3.1.1-bin-hadoop3.2.tgz"
      ]
    },
    {
      "cell_type": "code",
      "execution_count": 2,
      "metadata": {
        "id": "V_UfRa0ljm_F"
      },
      "outputs": [],
      "source": [
        "import os\n",
        "os.environ[\"JAVA_HOME\"] = \"/usr/lib/jvm/java-8-openjdk-amd64\"\n",
        "os.environ[\"SPARK_HOME\"] = \"/content/spark-3.1.1-bin-hadoop3.2\""
      ]
    },
    {
      "cell_type": "code",
      "execution_count": 3,
      "metadata": {
        "colab": {
          "base_uri": "https://localhost:8080/"
        },
        "id": "J4EpEASjjvYK",
        "outputId": "adf96a30-970a-4b10-bbe3-cb1c4ed50850"
      },
      "outputs": [
        {
          "output_type": "stream",
          "name": "stdout",
          "text": [
            "Requirement already satisfied: findspark in /usr/local/lib/python3.10/dist-packages (2.0.1)\n"
          ]
        }
      ],
      "source": [
        "!pip install findspark\n",
        "import findspark\n",
        "findspark.init()"
      ]
    },
    {
      "cell_type": "code",
      "execution_count": 4,
      "metadata": {
        "colab": {
          "base_uri": "https://localhost:8080/"
        },
        "id": "72puEnD1mS5B",
        "outputId": "68fe12bd-b3e5-49ac-b8b6-a6ae03e5a9a6"
      },
      "outputs": [
        {
          "output_type": "stream",
          "name": "stdout",
          "text": [
            "Requirement already satisfied: pyspark==3.0.0 in /usr/local/lib/python3.10/dist-packages (3.0.0)\n",
            "Requirement already satisfied: py4j==0.10.9 in /usr/local/lib/python3.10/dist-packages (from pyspark==3.0.0) (0.10.9)\n"
          ]
        }
      ],
      "source": [
        "!pip3 install pyspark==3.0.0"
      ]
    },
    {
      "cell_type": "code",
      "execution_count": 5,
      "metadata": {
        "id": "SjIY7Pb9mU9g"
      },
      "outputs": [],
      "source": [
        "from pyspark import SparkContext, SparkConf\n",
        "import pyspark.sql as sql\n",
        "from pyspark.sql import SparkSession\n",
        "from pyspark.sql.types import DoubleType\n",
        "from pyspark.sql.functions import udf, col, max, sum, countDistinct"
      ]
    },
    {
      "cell_type": "code",
      "execution_count": 6,
      "metadata": {
        "id": "y2GmdOPhq2Jb"
      },
      "outputs": [],
      "source": [
        "# Инициализация сессии\n",
        "spark = SparkSession \\\n",
        "    .builder \\\n",
        "    .appName(\"L1_interactive_bike_analysis\") \\\n",
        "    .getOrCreate()"
      ]
    },
    {
      "cell_type": "code",
      "execution_count": 7,
      "metadata": {
        "id": "pJbdh-k8q_mJ"
      },
      "outputs": [],
      "source": [
        "# Загружаем данные\n",
        "import os\n",
        "data_path = os.path.join(os.curdir, \"data\")\n",
        "trips_path = os.path.join(\"trips.csv\")\n",
        "stations_path = os.path.join(\"stations.csv\")"
      ]
    },
    {
      "cell_type": "code",
      "execution_count": 8,
      "metadata": {
        "id": "jalZmBZNrKrx"
      },
      "outputs": [],
      "source": [
        "trips = spark.read \\\n",
        "        .option(\"header\", True) \\\n",
        "        .option(\"inferSchema\", True) \\\n",
        "        .option(\"DateTimeFormat\", 'M/d/y H:m') \\\n",
        "        .csv(trips_path)\n",
        "\n",
        "stat = spark.read \\\n",
        "        .option(\"header\", True) \\\n",
        "        .option(\"inferSchema\", True) \\\n",
        "        .option(\"DateTimeFormat\", 'M/d/y H:m') \\\n",
        "        .csv(stations_path)"
      ]
    },
    {
      "cell_type": "markdown",
      "source": [
        "#Задачи для данных велопарковок Сан-Франциско (trips.csv, stations.csv):\n",
        "\n",
        "\n",
        "\n",
        "*   Найти велосипед с максимальным временем пробега.\n",
        "*   Найти наибольшее геодезическое расстояние между станциями.\n",
        "*   Найти путь велосипеда с максимальным временем пробега через станции.\n",
        "*   Найти количество велосипедов в системе.\n",
        "*   Найти пользователей потративших на поездки более 3 часов.\n",
        "\n",
        "\n",
        "\n",
        "\n",
        "\n",
        "\n",
        "\n"
      ],
      "metadata": {
        "id": "YFeB09QYr6F7"
      }
    },
    {
      "cell_type": "markdown",
      "source": [
        "**Найти велосипед с максимальным временем пробега.**"
      ],
      "metadata": {
        "id": "Rez66dYzsTiJ"
      }
    },
    {
      "cell_type": "code",
      "source": [
        "# Группируем велосипеды по id и считаем время пробега для каждого велосипеда применяя функцию sum\n",
        "max_trip_duration = trips.groupBy(\"bike_id\").agg(sum(col(\"duration\")).alias(\"duration\"))\n",
        "\n",
        "# Выбираем велосипед с максимальным пробегом\n",
        "trips_duration = max_trip_duration.orderBy(col(\"duration\").desc()).first()\n",
        "bike_id = trips_duration[\"bike_id\"]\n",
        "duration = trips_duration[\"duration\"]\n",
        "print(f\"Велосипед № {bike_id} с максимальным временем пробега = {duration} километров\")"
      ],
      "metadata": {
        "colab": {
          "base_uri": "https://localhost:8080/"
        },
        "id": "zl4_xGWSsSvR",
        "outputId": "31db3272-ecd7-4f71-bb69-38973c9e5e84"
      },
      "execution_count": 9,
      "outputs": [
        {
          "output_type": "stream",
          "name": "stdout",
          "text": [
            "Велосипед № 535 с максимальным временем пробега = 18611693 километров\n"
          ]
        }
      ]
    },
    {
      "cell_type": "markdown",
      "source": [
        "**Найти наибольшее геодезическое расстояние между станциями.**"
      ],
      "metadata": {
        "id": "W1KsXeKyudmz"
      }
    },
    {
      "cell_type": "code",
      "source": [
        "from math import sqrt, radians, sin, cos, atan2"
      ],
      "metadata": {
        "id": "9idNYex6uku5"
      },
      "execution_count": 10,
      "outputs": []
    },
    {
      "cell_type": "code",
      "source": [
        "def dist(lat1, long1, lat2, long2):\n",
        "    R = 6373 # радиус Земли\n",
        "    lat1 = radians(lat1)\n",
        "    lat2 = radians(lat2)\n",
        "    long1 = radians(long1)\n",
        "    long2 = radians(long2)\n",
        "    # Вычисляем геодезическое расстояние\n",
        "    dist = R * (2 * atan2(sqrt(sin((lat2 - lat1) / 2)**2 + cos(lat1) * cos(lat2) * sin((long2 - long1) / 2)**2), sqrt(1 - (sin((lat2 - lat1) / 2)**2 + cos(lat1) * cos(lat2) * sin((long2 - long1) / 2)**2))))\n",
        "    return dist\n",
        "\n",
        "# в pyspark.sql.functions.udf\n",
        "geo_dist = udf(dist, DoubleType())\n",
        "# Объединяем станции с самими собой для получения всевозможных пар\n",
        "station = stat.alias(\"station1\").crossJoin(stat.alias(\"station2\"))\n",
        "# Вычисляем расстояние для каждой пары станций\n",
        "station_dist = station.withColumn(\"geodesic_distance\", geo_dist(col(\"station1.lat\"), col(\"station1.long\"), col(\"station2.lat\"), col(\"station2.long\")))\n",
        "# Максимальное геодезическое расстояние для каждой пары станций\n",
        "dist = station_dist.selectExpr(\"max(geodesic_distance) as max_distance\").collect()[0][\"max_distance\"]\n",
        "print(f\"Наибольшее геодезическое расстояние между станциями = {dist} километров\")"
      ],
      "metadata": {
        "colab": {
          "base_uri": "https://localhost:8080/"
        },
        "id": "gmmOtDwPtVn-",
        "outputId": "92784dc8-3140-4e30-9e36-250446c2267f"
      },
      "execution_count": 25,
      "outputs": [
        {
          "output_type": "stream",
          "name": "stdout",
          "text": [
            "Наибольшее геодезическое расстояние между станциями = 69.9428256877473 километров\n"
          ]
        }
      ]
    },
    {
      "cell_type": "markdown",
      "source": [
        "**Найти путь велосипеда с максимальным временем пробега через станции.**"
      ],
      "metadata": {
        "id": "3yr8EBv82M0Q"
      }
    },
    {
      "cell_type": "code",
      "source": [
        "# Выбираем самую длительную поездку\n",
        "duration = trips.select(\"start_station_name\", \"end_station_name\", \"duration\").orderBy(col(\"duration\").desc()).first()\n",
        "first_duration = duration[\"start_station_name\"] # начальная станция\n",
        "second_duration = duration[\"end_station_name\"] # конечная станция\n",
        "all_time = duration[\"duration\"] # время поездки\n",
        "print(f\"Самый максимальный пробег через станции из пункта \\\"{first_duration}\\\" в пункт \\\"{second_duration}\\\" занял {all_time} секунд\")"
      ],
      "metadata": {
        "colab": {
          "base_uri": "https://localhost:8080/"
        },
        "id": "DXCAP0Qd2Qho",
        "outputId": "c312e57f-6aef-4a59-afaa-1fcc8699499e"
      },
      "execution_count": 24,
      "outputs": [
        {
          "output_type": "stream",
          "name": "stdout",
          "text": [
            "Самый максимальный пробег через станции из пункта \"South Van Ness at Market\" в пункт \"2nd at Folsom\" занял 17270400 секунд\n"
          ]
        }
      ]
    },
    {
      "cell_type": "markdown",
      "source": [
        "**Найти количество велосипедов в системе.**"
      ],
      "metadata": {
        "id": "YQCHOiHi3Z89"
      }
    },
    {
      "cell_type": "code",
      "source": [
        "# Группируем по id велосипеда и считаем уникальные значения id\n",
        "count_bikes = trips.agg(countDistinct(\"bike_id\").alias(\"bike_count\")).collect()[0][\"bike_count\"]\n",
        "print(f\"Количество велосипедов в системе = {count_bikes} штук\")"
      ],
      "metadata": {
        "colab": {
          "base_uri": "https://localhost:8080/"
        },
        "id": "mzwPcVsg3dkx",
        "outputId": "c3d10acd-c91c-4734-b201-e0b67891b3d0"
      },
      "execution_count": 22,
      "outputs": [
        {
          "output_type": "stream",
          "name": "stdout",
          "text": [
            "Количество велосипедов в системе = 700 штук\n"
          ]
        }
      ]
    },
    {
      "cell_type": "markdown",
      "source": [
        "**Найти пользователей потративших на поездки более 3 часов.**"
      ],
      "metadata": {
        "id": "Jjc_zkIc3xh8"
      }
    },
    {
      "cell_type": "code",
      "source": [
        "# Группируем велосипеды по id и считаем общее время поездки\n",
        "users_total_time = trips.groupBy(\"bike_id\").sum(\"duration\").withColumnRenamed(\"sum(duration)\", \"time\")\n",
        "# Устанавливаем фильтр (в секундах) больше 3 часов\n",
        "users_total_time.filter(\"time>10800\").show()"
      ],
      "metadata": {
        "colab": {
          "base_uri": "https://localhost:8080/"
        },
        "id": "-GmeDcQ73816",
        "outputId": "98ec228a-ee72-4f97-c5c5-0a2b0d0dd623"
      },
      "execution_count": 23,
      "outputs": [
        {
          "output_type": "stream",
          "name": "stdout",
          "text": [
            "+-------+-------+\n",
            "|bike_id|   time|\n",
            "+-------+-------+\n",
            "|    471|1718831|\n",
            "|    496|1679568|\n",
            "|    148| 332138|\n",
            "|    463|1722796|\n",
            "|    540|1752835|\n",
            "|    392|1789476|\n",
            "|    623|2037219|\n",
            "|    243| 307458|\n",
            "|    516|1896751|\n",
            "|     31| 407907|\n",
            "|    580|1034382|\n",
            "|    137|1529200|\n",
            "|    251|1282980|\n",
            "|    451|1695574|\n",
            "|     85|1214769|\n",
            "|    458|1647080|\n",
            "|     65| 216922|\n",
            "|    588| 266415|\n",
            "|    255| 396395|\n",
            "|     53| 226389|\n",
            "+-------+-------+\n",
            "only showing top 20 rows\n",
            "\n"
          ]
        }
      ]
    },
    {
      "cell_type": "code",
      "source": [],
      "metadata": {
        "id": "WY-X5_kg4BMa"
      },
      "execution_count": null,
      "outputs": []
    }
  ],
  "metadata": {
    "colab": {
      "provenance": []
    },
    "kernelspec": {
      "display_name": "Python 3",
      "name": "python3"
    },
    "language_info": {
      "name": "python"
    }
  },
  "nbformat": 4,
  "nbformat_minor": 0
}
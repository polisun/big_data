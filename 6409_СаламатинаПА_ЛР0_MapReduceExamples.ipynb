{
  "nbformat": 4,
  "nbformat_minor": 0,
  "metadata": {
    "colab": {
      "provenance": []
    },
    "kernelspec": {
      "name": "python3",
      "display_name": "Python 3"
    }
  },
  "cells": [
    {
      "cell_type": "markdown",
      "metadata": {
        "id": "82OvPKEiEqjc"
      },
      "source": [
        "# Введение в MapReduce модель на Python\n"
      ]
    },
    {
      "cell_type": "code",
      "metadata": {
        "id": "JQ2cvXLjICmI"
      },
      "source": [
        "from typing import NamedTuple # requires python 3.6+\n",
        "from typing import Iterator"
      ],
      "execution_count": 56,
      "outputs": []
    },
    {
      "cell_type": "code",
      "metadata": {
        "id": "yjPHumVwEyEg"
      },
      "source": [
        "def MAP(_, row:NamedTuple):\n",
        "  if (row.gender == 'female'):\n",
        "    yield (row.age, row)\n",
        "\n",
        "def REDUCE(age:str, rows:Iterator[NamedTuple]):\n",
        "  sum = 0\n",
        "  count = 0\n",
        "  for row in rows:\n",
        "    sum += row.social_contacts\n",
        "    count += 1\n",
        "  if (count > 0):\n",
        "    yield (age, sum/count)\n",
        "  else:\n",
        "    yield (age, 0)"
      ],
      "execution_count": 57,
      "outputs": []
    },
    {
      "cell_type": "markdown",
      "metadata": {
        "id": "vBKMgpG_ilaZ"
      },
      "source": [
        "Модель элемента данных"
      ]
    },
    {
      "cell_type": "code",
      "metadata": {
        "id": "Rv-XIjhTJPx3"
      },
      "source": [
        "class User(NamedTuple):\n",
        "  id: int\n",
        "  age: str\n",
        "  social_contacts: int\n",
        "  gender: str"
      ],
      "execution_count": 58,
      "outputs": []
    },
    {
      "cell_type": "code",
      "metadata": {
        "id": "5KV0Ze2vQgu5"
      },
      "source": [
        "input_collection = [\n",
        "    User(id=0, age=55, gender='male', social_contacts=20),\n",
        "    User(id=1, age=25, gender='female', social_contacts=240),\n",
        "    User(id=2, age=25, gender='female', social_contacts=500),\n",
        "    User(id=3, age=33, gender='female', social_contacts=800)\n",
        "]"
      ],
      "execution_count": 59,
      "outputs": []
    },
    {
      "cell_type": "markdown",
      "metadata": {
        "id": "YFeqzyZxZIFZ"
      },
      "source": [
        "Функция RECORDREADER моделирует чтение элементов с диска или по сети."
      ]
    },
    {
      "cell_type": "code",
      "metadata": {
        "id": "S5HR4E_GQoMJ"
      },
      "source": [
        "def RECORDREADER():\n",
        "  return [(u.id, u) for u in input_collection]"
      ],
      "execution_count": 60,
      "outputs": []
    },
    {
      "cell_type": "code",
      "metadata": {
        "id": "NeEoWla-ROUy",
        "colab": {
          "base_uri": "https://localhost:8080/"
        },
        "outputId": "d7efe151-f4cb-4e1d-c5aa-114a87ea6e58"
      },
      "source": [
        "list(RECORDREADER())"
      ],
      "execution_count": 61,
      "outputs": [
        {
          "output_type": "execute_result",
          "data": {
            "text/plain": [
              "[(0, User(id=0, age=55, social_contacts=20, gender='male')),\n",
              " (1, User(id=1, age=25, social_contacts=240, gender='female')),\n",
              " (2, User(id=2, age=25, social_contacts=500, gender='female')),\n",
              " (3, User(id=3, age=33, social_contacts=800, gender='female'))]"
            ]
          },
          "metadata": {},
          "execution_count": 61
        }
      ]
    },
    {
      "cell_type": "code",
      "metadata": {
        "id": "YB8orgPSZs8M"
      },
      "source": [
        "def flatten(nested_iterable):\n",
        "  for iterable in nested_iterable:\n",
        "    for element in iterable:\n",
        "      yield element"
      ],
      "execution_count": 62,
      "outputs": []
    },
    {
      "cell_type": "code",
      "metadata": {
        "id": "74oyvDLaRmd5",
        "colab": {
          "base_uri": "https://localhost:8080/"
        },
        "outputId": "6e696379-fc47-469d-dbaf-b1d7ff7c5456"
      },
      "source": [
        "map_output = flatten(map(lambda x: MAP(*x), RECORDREADER()))\n",
        "map_output = list(map_output) # materialize\n",
        "map_output"
      ],
      "execution_count": 63,
      "outputs": [
        {
          "output_type": "execute_result",
          "data": {
            "text/plain": [
              "[(25, User(id=1, age=25, social_contacts=240, gender='female')),\n",
              " (25, User(id=2, age=25, social_contacts=500, gender='female')),\n",
              " (33, User(id=3, age=33, social_contacts=800, gender='female'))]"
            ]
          },
          "metadata": {},
          "execution_count": 63
        }
      ]
    },
    {
      "cell_type": "code",
      "metadata": {
        "id": "8ncYDJ3-VzDn"
      },
      "source": [
        "def groupbykey(iterable):\n",
        "  t = {}\n",
        "  for (k2, v2) in iterable:\n",
        "    t[k2] = t.get(k2, []) + [v2]\n",
        "  return t.items()"
      ],
      "execution_count": 64,
      "outputs": []
    },
    {
      "cell_type": "code",
      "metadata": {
        "id": "cKzY_6COWOA2",
        "colab": {
          "base_uri": "https://localhost:8080/"
        },
        "outputId": "843c0762-5bf8-41d2-d9be-65b18fd4f793"
      },
      "source": [
        "shuffle_output = groupbykey(map_output)\n",
        "shuffle_output = list(shuffle_output)\n",
        "shuffle_output"
      ],
      "execution_count": 65,
      "outputs": [
        {
          "output_type": "execute_result",
          "data": {
            "text/plain": [
              "[(25,\n",
              "  [User(id=1, age=25, social_contacts=240, gender='female'),\n",
              "   User(id=2, age=25, social_contacts=500, gender='female')]),\n",
              " (33, [User(id=3, age=33, social_contacts=800, gender='female')])]"
            ]
          },
          "metadata": {},
          "execution_count": 65
        }
      ]
    },
    {
      "cell_type": "code",
      "metadata": {
        "id": "NlA7lkDDYL0t",
        "colab": {
          "base_uri": "https://localhost:8080/"
        },
        "outputId": "411ce289-40c5-4983-cbc9-a3bd3aeeb118"
      },
      "source": [
        "reduce_output = flatten(map(lambda x: REDUCE(*x), shuffle_output))\n",
        "reduce_output = list(reduce_output)\n",
        "reduce_output"
      ],
      "execution_count": 66,
      "outputs": [
        {
          "output_type": "execute_result",
          "data": {
            "text/plain": [
              "[(25, 370.0), (33, 800.0)]"
            ]
          },
          "metadata": {},
          "execution_count": 66
        }
      ]
    },
    {
      "cell_type": "markdown",
      "metadata": {
        "id": "xf6qhHEtd6bI"
      },
      "source": [
        "Все действия одним конвейером!"
      ]
    },
    {
      "cell_type": "code",
      "metadata": {
        "id": "dZaQGYxCdpw5",
        "colab": {
          "base_uri": "https://localhost:8080/"
        },
        "outputId": "1d9575e5-3579-4f8d-afb7-a4a117a9747b"
      },
      "source": [
        "list(flatten(map(lambda x: REDUCE(*x), groupbykey(flatten(map(lambda x: MAP(*x), RECORDREADER()))))))"
      ],
      "execution_count": 67,
      "outputs": [
        {
          "output_type": "execute_result",
          "data": {
            "text/plain": [
              "[(25, 370.0), (33, 800.0)]"
            ]
          },
          "metadata": {},
          "execution_count": 67
        }
      ]
    },
    {
      "cell_type": "markdown",
      "metadata": {
        "id": "Vq3EWRIpwSiJ"
      },
      "source": [
        "# **MapReduce**\n",
        "Выделим общую для всех пользователей часть системы в отдельную функцию высшего порядка. Это наиболее простая модель MapReduce, без учёта распределённого хранения данных.\n",
        "\n",
        "Пользователь для решения своей задачи реализует RECORDREADER, MAP, REDUCE."
      ]
    },
    {
      "cell_type": "code",
      "metadata": {
        "id": "V1PZeQMwwVjc"
      },
      "source": [
        "def flatten(nested_iterable):\n",
        "  for iterable in nested_iterable:\n",
        "    for element in iterable:\n",
        "      yield element\n",
        "\n",
        "def groupbykey(iterable):\n",
        "  t = {}\n",
        "  for (k2, v2) in iterable:\n",
        "    t[k2] = t.get(k2, []) + [v2]\n",
        "  return t.items()\n",
        "\n",
        "def MapReduce(RECORDREADER, MAP, REDUCE):\n",
        "  return flatten(map(lambda x: REDUCE(*x), groupbykey(flatten(map(lambda x: MAP(*x), RECORDREADER())))))"
      ],
      "execution_count": 68,
      "outputs": []
    },
    {
      "cell_type": "markdown",
      "metadata": {
        "id": "iFIVrimep678"
      },
      "source": [
        "## Спецификация MapReduce\n",
        "\n",
        "\n",
        "\n",
        "```\n",
        "f (k1, v1) -> (k2,v2)*\n",
        "g (k2, v2*) -> (k3,v3)*\n",
        "\n",
        "mapreduce ((k1,v1)*) -> (k3,v3)*\n",
        "groupby ((k2,v2)*) -> (k2,v2*)*\n",
        "flatten (e2**) -> e2*\n",
        "\n",
        "mapreduce .map(f).flatten.groupby(k2).map(g).flatten\n",
        "```\n",
        "\n",
        "\n"
      ]
    },
    {
      "cell_type": "markdown",
      "metadata": {
        "id": "QtTFyqke3KGe"
      },
      "source": [
        "# Примеры"
      ]
    },
    {
      "cell_type": "markdown",
      "metadata": {
        "id": "BNhh5763w5Vn"
      },
      "source": [
        "## SQL"
      ]
    },
    {
      "cell_type": "code",
      "metadata": {
        "id": "QkyurnvGxBGk",
        "colab": {
          "base_uri": "https://localhost:8080/"
        },
        "outputId": "d037169b-dcca-46ab-9cf1-92411adef37b"
      },
      "source": [
        "from typing import NamedTuple # requires python 3.6+\n",
        "from typing import Iterator\n",
        "\n",
        "class User(NamedTuple):\n",
        "  id: int\n",
        "  age: str\n",
        "  social_contacts: int\n",
        "  gender: str\n",
        "\n",
        "input_collection = [\n",
        "    User(id=0, age=55, gender='male', social_contacts=20),\n",
        "    User(id=1, age=25, gender='female', social_contacts=240),\n",
        "    User(id=2, age=25, gender='female', social_contacts=500),\n",
        "    User(id=3, age=33, gender='female', social_contacts=800)\n",
        "]\n",
        "\n",
        "def MAP(_, row:NamedTuple):\n",
        "  if (row.gender == 'female'):\n",
        "    yield (row.age, row)\n",
        "\n",
        "def REDUCE(age:str, rows:Iterator[NamedTuple]):\n",
        "  sum = 0\n",
        "  count = 0\n",
        "  for row in rows:\n",
        "    sum += row.social_contacts\n",
        "    count += 1\n",
        "  if (count > 0):\n",
        "    yield (age, sum/count)\n",
        "  else:\n",
        "    yield (age, 0)\n",
        "\n",
        "def RECORDREADER():\n",
        "  return [(u.id, u) for u in input_collection]\n",
        "\n",
        "output = MapReduce(RECORDREADER, MAP, REDUCE)\n",
        "output = list(output)\n",
        "output"
      ],
      "execution_count": 69,
      "outputs": [
        {
          "output_type": "execute_result",
          "data": {
            "text/plain": [
              "[(25, 370.0), (33, 800.0)]"
            ]
          },
          "metadata": {},
          "execution_count": 69
        }
      ]
    },
    {
      "cell_type": "markdown",
      "metadata": {
        "id": "kNKYIeerx0nY"
      },
      "source": [
        "## Matrix-Vector multiplication"
      ]
    },
    {
      "cell_type": "code",
      "metadata": {
        "id": "rwcntRcCyi1V",
        "colab": {
          "base_uri": "https://localhost:8080/"
        },
        "outputId": "e1c3c0fb-b5f6-454b-c7e1-0212721a58a0"
      },
      "source": [
        "from typing import Iterator\n",
        "import numpy as np\n",
        "\n",
        "mat = np.ones((5,4))\n",
        "vec = np.random.rand(4) # in-memory vector in all map tasks\n",
        "\n",
        "def MAP(coordinates:(int, int), value:int):\n",
        "  i, j = coordinates\n",
        "  yield (i, value*vec[j])\n",
        "\n",
        "def REDUCE(i:int, products:Iterator[NamedTuple]):\n",
        "  sum = 0\n",
        "  for p in products:\n",
        "    sum += p\n",
        "  yield (i, sum)\n",
        "\n",
        "def RECORDREADER():\n",
        "  for i in range(mat.shape[0]):\n",
        "    for j in range(mat.shape[1]):\n",
        "      yield ((i, j), mat[i,j])\n",
        "\n",
        "output = MapReduce(RECORDREADER, MAP, REDUCE)\n",
        "output = list(output)\n",
        "output"
      ],
      "execution_count": 70,
      "outputs": [
        {
          "output_type": "execute_result",
          "data": {
            "text/plain": [
              "[(0, 0.4939995854979272),\n",
              " (1, 0.4939995854979272),\n",
              " (2, 0.4939995854979272),\n",
              " (3, 0.4939995854979272),\n",
              " (4, 0.4939995854979272)]"
            ]
          },
          "metadata": {},
          "execution_count": 70
        }
      ]
    },
    {
      "cell_type": "markdown",
      "metadata": {
        "id": "ruZREYdi2o4O"
      },
      "source": [
        "## Inverted index"
      ]
    },
    {
      "cell_type": "code",
      "metadata": {
        "id": "vt9H9Alf3TYv",
        "colab": {
          "base_uri": "https://localhost:8080/"
        },
        "outputId": "e167f0b7-025f-49a9-8c55-0f22864920ed"
      },
      "source": [
        "from typing import Iterator\n",
        "\n",
        "d1 = \"it is what it is\"\n",
        "d2 = \"what is it\"\n",
        "d3 = \"it is a banana\"\n",
        "documents = [d1, d2, d3]\n",
        "\n",
        "def RECORDREADER():\n",
        "  for (docid, document) in enumerate(documents):\n",
        "    yield (\"{}\".format(docid), document)\n",
        "\n",
        "def MAP(docId:str, body:str):\n",
        "  for word in set(body.split(' ')):\n",
        "    yield (word, docId)\n",
        "\n",
        "def REDUCE(word:str, docIds:Iterator[str]):\n",
        "  yield (word, sorted(docIds))\n",
        "\n",
        "output = MapReduce(RECORDREADER, MAP, REDUCE)\n",
        "output = list(output)\n",
        "output"
      ],
      "execution_count": 71,
      "outputs": [
        {
          "output_type": "execute_result",
          "data": {
            "text/plain": [
              "[('it', ['0', '1', '2']),\n",
              " ('what', ['0', '1']),\n",
              " ('is', ['0', '1', '2']),\n",
              " ('banana', ['2']),\n",
              " ('a', ['2'])]"
            ]
          },
          "metadata": {},
          "execution_count": 71
        }
      ]
    },
    {
      "cell_type": "markdown",
      "metadata": {
        "id": "R7az-6DA6qr2"
      },
      "source": [
        "## WordCount"
      ]
    },
    {
      "cell_type": "code",
      "metadata": {
        "id": "dN-nbtgG6uYG",
        "colab": {
          "base_uri": "https://localhost:8080/"
        },
        "outputId": "1e47736e-b6d5-41e4-cbd3-c20308ec4315"
      },
      "source": [
        "from typing import Iterator\n",
        "\n",
        "d1 = \"\"\"\n",
        "it is what it is\n",
        "it is what it is\n",
        "it is what it is\"\"\"\n",
        "d2 = \"\"\"\n",
        "what is it\n",
        "what is it\"\"\"\n",
        "d3 = \"\"\"\n",
        "it is a banana\"\"\"\n",
        "documents = [d1, d2, d3]\n",
        "\n",
        "def RECORDREADER():\n",
        "  for (docid, document) in enumerate(documents):\n",
        "    for (lineid, line) in enumerate(document.split('\\n')):\n",
        "      yield (\"{}:{}\".format(docid,lineid), line)\n",
        "\n",
        "def MAP(docId:str, line:str):\n",
        "  for word in line.split(\" \"):\n",
        "    yield (word, 1)\n",
        "\n",
        "def REDUCE(word:str, counts:Iterator[int]):\n",
        "  sum = 0\n",
        "  for c in counts:\n",
        "    sum += c\n",
        "  yield (word, sum)\n",
        "\n",
        "output = MapReduce(RECORDREADER, MAP, REDUCE)\n",
        "output = list(output)\n",
        "output"
      ],
      "execution_count": 72,
      "outputs": [
        {
          "output_type": "execute_result",
          "data": {
            "text/plain": [
              "[('', 3), ('it', 9), ('is', 9), ('what', 5), ('a', 1), ('banana', 1)]"
            ]
          },
          "metadata": {},
          "execution_count": 72
        }
      ]
    },
    {
      "cell_type": "markdown",
      "metadata": {
        "id": "h-jRAcYCAkkk"
      },
      "source": [
        "# MapReduce Distributed\n",
        "\n",
        "Добавляется в модель фабрика RECORDREARER-ов --- INPUTFORMAT, функция распределения промежуточных результатов по партициям PARTITIONER, и функция COMBINER для частичной аггрегации промежуточных результатов до распределения по новым партициям."
      ]
    },
    {
      "cell_type": "code",
      "metadata": {
        "id": "nw-b-xJsApgW"
      },
      "source": [
        "def flatten(nested_iterable):\n",
        "  for iterable in nested_iterable:\n",
        "    for element in iterable:\n",
        "      yield element\n",
        "\n",
        "def groupbykey(iterable):\n",
        "  t = {}\n",
        "  for (k2, v2) in iterable:\n",
        "    t[k2] = t.get(k2, []) + [v2]\n",
        "  return t.items()\n",
        "\n",
        "def groupbykey_distributed(map_partitions, PARTITIONER):\n",
        "  global reducers\n",
        "  partitions = [dict() for _ in range(reducers)]\n",
        "  for map_partition in map_partitions:\n",
        "    for (k2, v2) in map_partition:\n",
        "      p = partitions[PARTITIONER(k2)]\n",
        "      p[k2] = p.get(k2, []) + [v2]\n",
        "  return [(partition_id, sorted(partition.items(), key=lambda x: x[0])) for (partition_id, partition) in enumerate(partitions)]\n",
        "\n",
        "def PARTITIONER(obj):\n",
        "  global reducers\n",
        "  return hash(obj) % reducers\n",
        "\n",
        "def MapReduceDistributed(INPUTFORMAT, MAP, REDUCE, PARTITIONER=PARTITIONER, COMBINER=None):\n",
        "  map_partitions = map(lambda record_reader: flatten(map(lambda k1v1: MAP(*k1v1), record_reader)), INPUTFORMAT())\n",
        "  if COMBINER != None:\n",
        "    map_partitions = map(lambda map_partition: flatten(map(lambda k2v2: COMBINER(*k2v2), groupbykey(map_partition))), map_partitions)\n",
        "  reduce_partitions = groupbykey_distributed(map_partitions, PARTITIONER) # shuffle\n",
        "  reduce_outputs = map(lambda reduce_partition: (reduce_partition[0], flatten(map(lambda reduce_input_group: REDUCE(*reduce_input_group), reduce_partition[1]))), reduce_partitions)\n",
        "\n",
        "  print(\"{} key-value pairs were sent over a network.\".format(sum([len(vs) for (k,vs) in flatten([partition for (partition_id, partition) in reduce_partitions])])))\n",
        "  return reduce_outputs"
      ],
      "execution_count": 73,
      "outputs": []
    },
    {
      "cell_type": "markdown",
      "metadata": {
        "id": "kxirlf3XqZxY"
      },
      "source": [
        "## Спецификация MapReduce Distributed\n",
        "\n",
        "\n",
        "```\n",
        "f (k1, v1) -> (k2,v2)*\n",
        "g (k2, v2*) -> (k3,v3)*\n",
        "\n",
        "e1 (k1, v1)\n",
        "e2 (k2, v2)\n",
        "partition1 (k2, v2)*\n",
        "partition2 (k2, v2*)*\n",
        "\n",
        "flatmap (e1->e2*, e1*) -> partition1*\n",
        "groupby (partition1*) -> partition2*\n",
        "\n",
        "mapreduce ((k1,v1)*) -> (k3,v3)*\n",
        "mapreduce .flatmap(f).groupby(k2).flatmap(g)\n",
        "```\n",
        "\n"
      ]
    },
    {
      "cell_type": "markdown",
      "metadata": {
        "id": "CWYw_CpbbY3C"
      },
      "source": [
        "## WordCount"
      ]
    },
    {
      "cell_type": "code",
      "metadata": {
        "id": "uR_zfGFkMZlp",
        "colab": {
          "base_uri": "https://localhost:8080/"
        },
        "outputId": "ebaa8842-18b0-4abe-9e87-453026dd60f8"
      },
      "source": [
        "from typing import Iterator\n",
        "import numpy as np\n",
        "\n",
        "d1 = \"\"\"\n",
        "it is what it is\n",
        "it is what it is\n",
        "it is what it is\"\"\"\n",
        "d2 = \"\"\"\n",
        "what is it\n",
        "what is it\"\"\"\n",
        "d3 = \"\"\"\n",
        "it is a banana\"\"\"\n",
        "documents = [d1, d2, d3, d1, d2, d3]\n",
        "\n",
        "maps = 3\n",
        "reducers = 2\n",
        "\n",
        "def INPUTFORMAT():\n",
        "  global maps\n",
        "\n",
        "  def RECORDREADER(split):\n",
        "    for (docid, document) in enumerate(split):\n",
        "      for (lineid, line) in enumerate(document.split('\\n')):\n",
        "        yield (\"{}:{}\".format(docid,lineid), line)\n",
        "\n",
        "  split_size =  int(np.ceil(len(documents)/maps))\n",
        "  for i in range(0, len(documents), split_size):\n",
        "    yield RECORDREADER(documents[i:i+split_size])\n",
        "\n",
        "def MAP(docId:str, line:str):\n",
        "  for word in line.split(\" \"):\n",
        "    yield (word, 1)\n",
        "\n",
        "def REDUCE(word:str, counts:Iterator[int]):\n",
        "  sum = 0\n",
        "  for c in counts:\n",
        "    sum += c\n",
        "  yield (word, sum)\n",
        "\n",
        "# try to set COMBINER=REDUCER and look at the number of values sent over the network\n",
        "partitioned_output = MapReduceDistributed(INPUTFORMAT, MAP, REDUCE, COMBINER=None)\n",
        "partitioned_output = [(partition_id, list(partition)) for (partition_id, partition) in partitioned_output]\n",
        "partitioned_output"
      ],
      "execution_count": 74,
      "outputs": [
        {
          "output_type": "stream",
          "name": "stdout",
          "text": [
            "56 key-value pairs were sent over a network.\n"
          ]
        },
        {
          "output_type": "execute_result",
          "data": {
            "text/plain": [
              "[(0, [('', 6), ('banana', 2), ('it', 18), ('what', 10)]),\n",
              " (1, [('a', 2), ('is', 18)])]"
            ]
          },
          "metadata": {},
          "execution_count": 74
        }
      ]
    },
    {
      "cell_type": "markdown",
      "metadata": {
        "id": "gCJGx8IQ87xS"
      },
      "source": [
        "## TeraSort"
      ]
    },
    {
      "cell_type": "code",
      "metadata": {
        "id": "P2v8v1v_8_YR",
        "colab": {
          "base_uri": "https://localhost:8080/"
        },
        "outputId": "8698cb8b-c7cf-4835-9d27-17f55a11616a"
      },
      "source": [
        "import numpy as np\n",
        "\n",
        "input_values = np.random.rand(30)\n",
        "maps = 3\n",
        "reducers = 2\n",
        "min_value = 0.0\n",
        "max_value = 1.0\n",
        "\n",
        "def INPUTFORMAT():\n",
        "  global maps\n",
        "\n",
        "  def RECORDREADER(split):\n",
        "    for value in split:\n",
        "        yield (value, None)\n",
        "\n",
        "  split_size =  int(np.ceil(len(input_values)/maps))\n",
        "  for i in range(0, len(input_values), split_size):\n",
        "    yield RECORDREADER(input_values[i:i+split_size])\n",
        "\n",
        "def MAP(value:int, _):\n",
        "  yield (value, None)\n",
        "\n",
        "def PARTITIONER(key):\n",
        "  global reducers\n",
        "  global max_value\n",
        "  global min_value\n",
        "  bucket_size = (max_value-min_value)/reducers\n",
        "  bucket_id = 0\n",
        "  while((key>(bucket_id+1)*bucket_size) and ((bucket_id+1)*bucket_size<max_value)):\n",
        "    bucket_id += 1\n",
        "  return bucket_id\n",
        "\n",
        "def REDUCE(value:int, _):\n",
        "  yield (None,value)\n",
        "\n",
        "partitioned_output = MapReduceDistributed(INPUTFORMAT, MAP, REDUCE, COMBINER=None, PARTITIONER=PARTITIONER)\n",
        "partitioned_output = [(partition_id, list(partition)) for (partition_id, partition) in partitioned_output]\n",
        "partitioned_output"
      ],
      "execution_count": 75,
      "outputs": [
        {
          "output_type": "stream",
          "name": "stdout",
          "text": [
            "30 key-value pairs were sent over a network.\n"
          ]
        },
        {
          "output_type": "execute_result",
          "data": {
            "text/plain": [
              "[(0,\n",
              "  [(None, 0.01691614592825874),\n",
              "   (None, 0.027439415714327953),\n",
              "   (None, 0.13496214430030895),\n",
              "   (None, 0.15400285152032245),\n",
              "   (None, 0.23339130593934931),\n",
              "   (None, 0.2652849566684271),\n",
              "   (None, 0.30295119926095904),\n",
              "   (None, 0.3095936909373269),\n",
              "   (None, 0.3110522266406457),\n",
              "   (None, 0.33927878733380235),\n",
              "   (None, 0.36033538764785444),\n",
              "   (None, 0.3758408330678269),\n",
              "   (None, 0.3858900109461094),\n",
              "   (None, 0.40369015080757664),\n",
              "   (None, 0.4084982505776372),\n",
              "   (None, 0.44284133943166915),\n",
              "   (None, 0.4430009036162783),\n",
              "   (None, 0.4523794967732343),\n",
              "   (None, 0.464128596882619)]),\n",
              " (1,\n",
              "  [(None, 0.5396899696385483),\n",
              "   (None, 0.5918962419225595),\n",
              "   (None, 0.6584882925777772),\n",
              "   (None, 0.7158558547548473),\n",
              "   (None, 0.7256404445089114),\n",
              "   (None, 0.7323609712505912),\n",
              "   (None, 0.7441343006134729),\n",
              "   (None, 0.8209003185559157),\n",
              "   (None, 0.8407932523537701),\n",
              "   (None, 0.9293478056421852),\n",
              "   (None, 0.983961085234929)])]"
            ]
          },
          "metadata": {},
          "execution_count": 75
        }
      ]
    },
    {
      "cell_type": "code",
      "metadata": {
        "id": "MQhoJaVZI93G"
      },
      "source": [],
      "execution_count": 75,
      "outputs": []
    },
    {
      "cell_type": "markdown",
      "metadata": {
        "id": "Iy65YJTH99iT"
      },
      "source": [
        "# Упражнения\n",
        "Упражнения взяты из Rajaraman A., Ullman J. D. Mining of massive datasets. – Cambridge University Press, 2011.\n",
        "\n",
        "\n",
        "Для выполнения заданий переопределите функции RECORDREADER, MAP, REDUCE. Для модели распределённой системы может потребоваться переопределение функций PARTITION и COMBINER."
      ]
    },
    {
      "cell_type": "markdown",
      "metadata": {
        "id": "cfvAeZm3S8S8"
      },
      "source": [
        "### Максимальное значение ряда\n",
        "\n",
        "Разработайте MapReduce алгоритм, который находит максимальное число входного списка чисел."
      ]
    },
    {
      "cell_type": "code",
      "metadata": {
        "id": "3GRA1JR-Tkbg",
        "colab": {
          "base_uri": "https://localhost:8080/"
        },
        "outputId": "e8584123-2adb-4767-fde6-aa91fa2a6cb4"
      },
      "source": [
        "# Создает пару ключ-значение (ключ равен 0 для всех пользователей)\n",
        "def MAP_MAX(_, row: NamedTuple):\n",
        "    yield (0, row)\n",
        "\n",
        "\n",
        "# Находит пользователя с наибольшим числом социальных контактов\n",
        "# среди всех пользователей с одинаковым ключом\n",
        "def REDUCE_MAX(_, rows: Iterator[NamedTuple]):\n",
        "    max_contacts = 0\n",
        "    max_contacts_user = None\n",
        "    for row in rows:\n",
        "        if row.social_contacts > max_contacts:\n",
        "            max_contacts = row.social_contacts\n",
        "            max_contacts_user = row\n",
        "    yield max_contacts_user\n",
        "\n",
        "# Возвращаем список кортежей\n",
        "def RECORDREADER():\n",
        "    return [(u.id, u) for u in input_collection]\n",
        "\n",
        "\n",
        "output = MapReduce(RECORDREADER, MAP_MAX, REDUCE_MAX)\n",
        "output = list(output)\n",
        "output"
      ],
      "execution_count": 76,
      "outputs": [
        {
          "output_type": "execute_result",
          "data": {
            "text/plain": [
              "[User(id=3, age=33, social_contacts=800, gender='female')]"
            ]
          },
          "metadata": {},
          "execution_count": 76
        }
      ]
    },
    {
      "cell_type": "markdown",
      "metadata": {
        "id": "k86bXnqZTk-U"
      },
      "source": [
        "### Арифметическое среднее\n",
        "\n",
        "Разработайте MapReduce алгоритм, который находит арифметическое среднее.\n",
        "\n",
        "$$\\overline{X} = \\frac{1}{n}\\sum_{i=0}^{n} x_i$$\n"
      ]
    },
    {
      "cell_type": "code",
      "metadata": {
        "id": "MPoY5pkfUNZf",
        "colab": {
          "base_uri": "https://localhost:8080/"
        },
        "outputId": "8246f423-f8a4-492e-ddb4-bfc6aa73ab2b"
      },
      "source": [
        "# Создает пару ключ-значение (ключ равен 0 для всех пользователей)\n",
        "def MAP_AVG(_, row: NamedTuple):\n",
        "    yield (0, row)\n",
        "\n",
        "\n",
        "# Нахождение среднего значения\n",
        "def REDUCE_AVG(_, rows: Iterator[NamedTuple]):\n",
        "    summ_counts = 0 # сумма social_contacts\n",
        "    count_users = 0 # общее количество пользователей\n",
        "    for row in rows:\n",
        "        summ_counts += row.social_contacts\n",
        "        count_users += 1\n",
        "    if count_users > 0:\n",
        "        yield summ_counts / count_users\n",
        "    else:\n",
        "        yield 0\n",
        "\n",
        "# Возвращаем список кортежей\n",
        "def RECORDREADER():\n",
        "    return [(u.id, u) for u in input_collection]\n",
        "\n",
        "\n",
        "output = MapReduce(RECORDREADER, MAP_AVG, REDUCE_AVG)\n",
        "output = list(output)\n",
        "output"
      ],
      "execution_count": 77,
      "outputs": [
        {
          "output_type": "execute_result",
          "data": {
            "text/plain": [
              "[390.0]"
            ]
          },
          "metadata": {},
          "execution_count": 77
        }
      ]
    },
    {
      "cell_type": "markdown",
      "metadata": {
        "id": "xanzszhsIlLe"
      },
      "source": [
        "### GroupByKey на основе сортировки\n",
        "\n",
        "Реализуйте groupByKey на основе сортировки, проверьте его работу на примерах"
      ]
    },
    {
      "cell_type": "code",
      "metadata": {
        "id": "hQPn3USsIkEC",
        "colab": {
          "base_uri": "https://localhost:8080/"
        },
        "outputId": "39c56dc1-a0df-4623-e4bf-cb3d040f58f9"
      },
      "source": [
        "# Возвращает список кортежей (ключ, список значений)\n",
        "def groupbykey(iterable):\n",
        "    # сортируем по ключу\n",
        "    iterable = sorted(iterable, key=lambda e: e[0])\n",
        "    dict_t = {}\n",
        "    # ключи в словаре хранятся уникальные\n",
        "    for k2, v2 in iterable:\n",
        "        dict_t[k2] = dict_t.get(k2, []) + [v2]\n",
        "    return dict_t.items()\n",
        "\n",
        "# находим максимальное значение в каждой группе с одинаковым ключом\n",
        "output = MapReduce(RECORDREADER, MAP_MAX, REDUCE_MAX)\n",
        "output = list(output)\n",
        "print(f\"max: {output}\")\n",
        "\n",
        "# находим среднее значение в каждой группе с одинаковым ключом\n",
        "output = MapReduce(RECORDREADER, MAP_AVG, REDUCE_AVG)\n",
        "output = list(output)\n",
        "print(f\"average: {output}\")\n",
        ""
      ],
      "execution_count": 78,
      "outputs": [
        {
          "output_type": "stream",
          "name": "stdout",
          "text": [
            "max: [User(id=3, age=33, social_contacts=800, gender='female')]\n",
            "average: [390.0]\n"
          ]
        }
      ]
    },
    {
      "cell_type": "markdown",
      "metadata": {
        "id": "5SgEjCZyGnu6"
      },
      "source": [
        "### Drop duplicates (set construction, unique elements, distinct)\n",
        "\n",
        "Реализуйте распределённую операцию исключения дубликатов"
      ]
    },
    {
      "cell_type": "code",
      "metadata": {
        "id": "okjbyApjGhMt",
        "colab": {
          "base_uri": "https://localhost:8080/"
        },
        "outputId": "6a7d285f-b1df-47bf-b2e0-5e4a34063ebc"
      },
      "source": [
        "# исходные данные пользователей\n",
        "\n",
        "input_collection = [\n",
        "    User(id=0, age=44, gender=\"male\", social_contacts=20),\n",
        "    User(id=0, age=35, gender=\"female\", social_contacts=239),\n",
        "    User(id=1, age=26, gender=\"male\", social_contacts=638),\n",
        "    User(id=2, age=17, gender=\"male\", social_contacts=134),\n",
        "    User(id=2, age=37, gender=\"female\", social_contacts=234),\n",
        "    User(id=3, age=31, gender=\"male\", social_contacts=521),\n",
        "    User(id=3, age=34, gender=\"female\", social_contacts=756),\n",
        "]\n",
        "\n",
        "def flatten(nested_iterable):\n",
        "    for iterable in nested_iterable:\n",
        "        for element in iterable:\n",
        "            yield element\n",
        "\n",
        "# Возвращает список кортежей\n",
        "def groupbykey(iterable):\n",
        "    dict_t = {}\n",
        "    for k2, v2 in iterable:\n",
        "        dict_t[k2] = dict_t.get(k2, []) + [v2]\n",
        "    return dict_t.items()\n",
        "\n",
        "# Группируем по ключу\n",
        "def groupbykey_distributed(map_partitions, PARTITIONER):\n",
        "    global reducers\n",
        "    partitions = [dict() for _ in range(reducers)]\n",
        "    for map_partition in map_partitions:\n",
        "        for k2, v2 in map_partition:\n",
        "            p = partitions[PARTITIONER(k2)]\n",
        "            p[k2] = p.get(k2, []) + [v2]\n",
        "    return [\n",
        "        (partition_id, sorted(partition.items(), key=lambda x: x[0]))\n",
        "        for (partition_id, partition) in enumerate(partitions)\n",
        "    ]\n",
        "\n",
        "# Определяем номер раздела для объекта\n",
        "def PARTITIONER(obj):\n",
        "    global reducers\n",
        "    return hash(obj) % reducers\n",
        "\n",
        "\n",
        "def MapReduceDistributed(\n",
        "    INPUTFORMAT, MAP, REDUCE, PARTITIONER=PARTITIONER, COMBINER=None\n",
        "):\n",
        "    map_partitions = map(\n",
        "        lambda record_reader: flatten(map(lambda k1v1: MAP(*k1v1), record_reader)),\n",
        "        INPUTFORMAT(),\n",
        "    )\n",
        "    if COMBINER != None:\n",
        "        map_partitions = map(\n",
        "            lambda map_partition: flatten(\n",
        "                map(lambda k2v2: COMBINER(*k2v2), groupbykey(map_partition))\n",
        "            ),\n",
        "            map_partitions,\n",
        "        )\n",
        "    reduce_partitions = groupbykey_distributed(map_partitions, PARTITIONER)  # shuffle\n",
        "    reduce_outputs = map(\n",
        "        lambda reduce_partition: (\n",
        "            reduce_partition[0],\n",
        "            flatten(\n",
        "                map(\n",
        "                    lambda reduce_input_group: REDUCE(*reduce_input_group),\n",
        "                    reduce_partition[1],\n",
        "                )\n",
        "            ),\n",
        "        ),\n",
        "        reduce_partitions,\n",
        "    )\n",
        "\n",
        "    print(\n",
        "        \"{} key-value pairs were sent over a network.\".format(\n",
        "            sum(\n",
        "                [\n",
        "                    len(vs)\n",
        "                    for (k, vs) in flatten(\n",
        "                        [partition for (partition_id, partition) in reduce_partitions]\n",
        "                    )\n",
        "                ]\n",
        "            )\n",
        "        )\n",
        "    )\n",
        "    return reduce_outputs\n",
        "\n",
        "maps = 3\n",
        "reducers = 2\n",
        "\n",
        "# Разделяем на порции, с которыми будут работать мапперы\n",
        "def INPUTFORMAT():\n",
        "    global maps\n",
        "\n",
        "    def RECORDREADER(split):\n",
        "        for userindex, user in enumerate(split):\n",
        "            yield (userindex, user)\n",
        "\n",
        "    # разделеляем массив пользователей для вычислительных узлов\n",
        "    split_size = int(np.ceil(len(input_collection) / maps))\n",
        "    for i in range(0, len(input_collection), split_size):\n",
        "        yield RECORDREADER(input_collection[i : i + split_size])\n",
        "\n",
        "\n",
        "# Возвращаем кортеж с id пользователя и самим пользователем\n",
        "def MAP_UNIQUE(_, user: str):\n",
        "    yield (user.id, user)\n",
        "\n",
        "\n",
        "# Возвращаем только первого пользователя из группы с одинаковым id\n",
        "def REDUCE_UNIQUE(user_id: int, users: Iterator[int]):\n",
        "    yield users[0]\n",
        "\n",
        "\n",
        "partitioned_output = MapReduceDistributed(\n",
        "    INPUTFORMAT, MAP_UNIQUE, REDUCE_UNIQUE, COMBINER=None\n",
        ")\n",
        "partitioned_output = [\n",
        "    (partition_id, list(partition)) for (partition_id, partition) in partitioned_output\n",
        "]\n",
        "partitioned_output\n",
        ""
      ],
      "execution_count": 79,
      "outputs": [
        {
          "output_type": "stream",
          "name": "stdout",
          "text": [
            "7 key-value pairs were sent over a network.\n"
          ]
        },
        {
          "output_type": "execute_result",
          "data": {
            "text/plain": [
              "[(0,\n",
              "  [User(id=0, age=44, social_contacts=20, gender='male'),\n",
              "   User(id=2, age=17, social_contacts=134, gender='male')]),\n",
              " (1,\n",
              "  [User(id=1, age=26, social_contacts=638, gender='male'),\n",
              "   User(id=3, age=31, social_contacts=521, gender='male')])]"
            ]
          },
          "metadata": {},
          "execution_count": 79
        }
      ]
    },
    {
      "cell_type": "markdown",
      "metadata": {
        "id": "e7sRGoTXuJze"
      },
      "source": [
        "#Операторы реляционной алгебры\n",
        "### Selection (Выборка)\n",
        "\n",
        "**The Map Function**: Для  каждого кортежа $t \\in R$ вычисляется истинность предиката $C$. В случае истины создаётся пара ключ-значение $(t, t)$. В паре ключ и значение одинаковы, равны $t$.\n",
        "\n",
        "**The Reduce Function:** Роль функции Reduce выполняет функция идентичности, которая возвращает то же значение, что получила на вход.\n",
        "\n"
      ]
    },
    {
      "cell_type": "code",
      "metadata": {
        "id": "4nKIKe59uIfc",
        "colab": {
          "base_uri": "https://localhost:8080/"
        },
        "outputId": "4e578bd4-551a-40aa-afa6-f1123d4a76c9"
      },
      "source": [
        "# Проверяем значение параметра gender\n",
        "def MAP_SELECT(_, row: NamedTuple):\n",
        "  # предикатом будет проверка параметра gender\n",
        "    if row.gender == \"female\":\n",
        "        yield (row, row)\n",
        "\n",
        "# Возвращаем ключ и все строки для этого ключа\n",
        "def REDUCE_SELECT(row: str, rows: Iterator[NamedTuple]):\n",
        "    yield (row, rows)\n",
        "\n",
        "# Создаем список кортежей\n",
        "def RECORDREADER():\n",
        "    return [(u.id, u) for u in input_collection]\n",
        "\n",
        "\n",
        "output = MapReduce(RECORDREADER, MAP_SELECT, REDUCE_SELECT)\n",
        "output = list(output)\n",
        "output\n",
        ""
      ],
      "execution_count": 80,
      "outputs": [
        {
          "output_type": "execute_result",
          "data": {
            "text/plain": [
              "[(User(id=0, age=35, social_contacts=239, gender='female'),\n",
              "  [User(id=0, age=35, social_contacts=239, gender='female')]),\n",
              " (User(id=2, age=37, social_contacts=234, gender='female'),\n",
              "  [User(id=2, age=37, social_contacts=234, gender='female')]),\n",
              " (User(id=3, age=34, social_contacts=756, gender='female'),\n",
              "  [User(id=3, age=34, social_contacts=756, gender='female')])]"
            ]
          },
          "metadata": {},
          "execution_count": 80
        }
      ]
    },
    {
      "cell_type": "markdown",
      "metadata": {
        "id": "w27Ca-_Ku85V"
      },
      "source": [
        "### Projection (Проекция)\n",
        "\n",
        "Проекция на множество атрибутов $S$.\n",
        "\n",
        "**The Map Function:** Для каждого кортежа $t \\in R$ создайте кортеж $t′$, исключая  из $t$ те значения, атрибуты которых не принадлежат  $S$. Верните пару $(t′, t′)$.\n",
        "\n",
        "**The Reduce Function:** Для каждого ключа $t′$, созданного любой Map задачей, вы получаете одну или несколько пар $(t′, t′)$. Reduce функция преобразует $(t′, [t′, t′, . . . , t′])$ в $(t′, t′)$, так, что для ключа $t′$ возвращается одна пара  $(t′, t′)$."
      ]
    },
    {
      "cell_type": "code",
      "metadata": {
        "id": "BEvuY4GqvhS6",
        "colab": {
          "base_uri": "https://localhost:8080/"
        },
        "outputId": "65856daf-9143-4e13-ecd9-feabcf2fed9f"
      },
      "source": [
        "# исходные данные пользователей\n",
        "input_collection_2 = [\n",
        "    dict(id=0, age=44, gender=\"male\", social_contacts=20),\n",
        "    dict(id=0, age=35, gender=\"female\", social_contacts=239),\n",
        "    dict(id=1, age=26, gender=\"undefined\", social_contacts=638),\n",
        "    dict(id=2, age=17, gender=\"male\", social_contacts=134),\n",
        "    dict(id=2, age=37, gender=\"undefined\", social_contacts=234),\n",
        "    dict(id=3, age=31, gender=\"male\", social_contacts=521),\n",
        "    dict(id=3, age=34, gender=\"female\", social_contacts=756),\n",
        "]\n",
        "\n",
        "def flatten(nested_iterable):\n",
        "    for iterable in nested_iterable:\n",
        "        for element in iterable:\n",
        "            yield element\n",
        "\n",
        "\n",
        "def groupbykey(iterable):\n",
        "    dict_t = {}\n",
        "    for k2, v2 in iterable:\n",
        "        dict_t[k2] = dict_t.get(k2, []) + [v2]\n",
        "    return dict_t.items()\n",
        "\n",
        "\n",
        "def MapReduce(RECORDREADER, MAP, REDUCE):\n",
        "    return flatten(\n",
        "        map(\n",
        "            lambda x: REDUCE(*x),\n",
        "            groupbykey(flatten(map(lambda x: MAP(*x), RECORDREADER()))),\n",
        "        )\n",
        "    )\n",
        "\n",
        "# Возвращаем пару ключ-значение (ключ id)\n",
        "def MAP_PROJECTION(_, row: dict):\n",
        "    S = [\"male\", \"female\"]\n",
        "    if row[\"gender\"] in S:\n",
        "        yield (row[\"id\"], row)\n",
        "    else:\n",
        "        # Удаляем поле gender у полученого словаря\n",
        "        modified_row = row.copy()\n",
        "        del modified_row[\"gender\"]\n",
        "        yield (modified_row[\"id\"], modified_row)\n",
        "\n",
        "\n",
        "def REDUCE_PROJECTION(row: str, rows: Iterator[NamedTuple]):\n",
        "    yield (row, rows)\n",
        "\n",
        "\n",
        "def RECORDREADER():\n",
        "    return [(u[\"id\"], u) for u in input_collection_2]\n",
        "\n",
        "\n",
        "output = MapReduce(RECORDREADER, MAP_PROJECTION, REDUCE_PROJECTION)\n",
        "output = list(output)\n",
        "output\n",
        ""
      ],
      "execution_count": 81,
      "outputs": [
        {
          "output_type": "execute_result",
          "data": {
            "text/plain": [
              "[(0,\n",
              "  [{'id': 0, 'age': 44, 'gender': 'male', 'social_contacts': 20},\n",
              "   {'id': 0, 'age': 35, 'gender': 'female', 'social_contacts': 239}]),\n",
              " (1, [{'id': 1, 'age': 26, 'social_contacts': 638}]),\n",
              " (2,\n",
              "  [{'id': 2, 'age': 17, 'gender': 'male', 'social_contacts': 134},\n",
              "   {'id': 2, 'age': 37, 'social_contacts': 234}]),\n",
              " (3,\n",
              "  [{'id': 3, 'age': 31, 'gender': 'male', 'social_contacts': 521},\n",
              "   {'id': 3, 'age': 34, 'gender': 'female', 'social_contacts': 756}])]"
            ]
          },
          "metadata": {},
          "execution_count": 81
        }
      ]
    },
    {
      "cell_type": "markdown",
      "metadata": {
        "id": "7gau6lKXvn2R"
      },
      "source": [
        "### Union (Объединение)\n",
        "\n",
        "**The Map Function:** Превратите каждый входной кортеж $t$ в пару ключ-значение $(t, t)$.\n",
        "\n",
        "**The Reduce Function:** С каждым ключом $t$ будет ассоциировано одно или два значений. В обоих случаях создайте $(t, t)$ в качестве выходного значения."
      ]
    },
    {
      "cell_type": "code",
      "metadata": {
        "id": "Sns7a5agv3nw",
        "colab": {
          "base_uri": "https://localhost:8080/"
        },
        "outputId": "c9daafcf-5ca5-4ebe-9c4e-85bb2080d11c"
      },
      "source": [
        "# исходные данные пользователей\n",
        "input_collection_a = [\n",
        "    User(id=1, age=54, gender=\"male\", social_contacts=20),\n",
        "    User(id=2, age=25, gender=\"female\", social_contacts=239),\n",
        "    User(id=3, age=27, gender=\"male\", social_contacts=638),\n",
        "    User(id=4, age=16, gender=\"male\", social_contacts=137),\n",
        "    User(id=5, age=35, gender=\"female\", social_contacts=247),\n",
        "]\n",
        "\n",
        "input_collection_b = [\n",
        "    User(id=5, age=35, gender=\"female\", social_contacts=247),\n",
        "    User(id=6, age=31, gender=\"male\", social_contacts=521),\n",
        "    User(id=7, age=32, gender=\"female\", social_contacts=749),\n",
        "]\n",
        "\n",
        "# Генерируем пару ключ-значение (ключ - id)\n",
        "def MAP_UNION(_, row: NamedTuple):\n",
        "    yield (row.id, row)\n",
        "\n",
        "\n",
        "# Независимо от присутствия пользователя возвращаем (t, t)\n",
        "def REDUCE_UNION(row: str, rows: Iterator[NamedTuple]):\n",
        "    yield (rows[0], rows[0])\n",
        "\n",
        "\n",
        "def RECORDREADER():\n",
        "    return [(u.id, u) for u in input_collection_a + input_collection_b]\n",
        "\n",
        "\n",
        "output = MapReduce(RECORDREADER, MAP_UNION, REDUCE_UNION)\n",
        "output = list(output)\n",
        "output"
      ],
      "execution_count": 82,
      "outputs": [
        {
          "output_type": "execute_result",
          "data": {
            "text/plain": [
              "[(User(id=1, age=54, social_contacts=20, gender='male'),\n",
              "  User(id=1, age=54, social_contacts=20, gender='male')),\n",
              " (User(id=2, age=25, social_contacts=239, gender='female'),\n",
              "  User(id=2, age=25, social_contacts=239, gender='female')),\n",
              " (User(id=3, age=27, social_contacts=638, gender='male'),\n",
              "  User(id=3, age=27, social_contacts=638, gender='male')),\n",
              " (User(id=4, age=16, social_contacts=137, gender='male'),\n",
              "  User(id=4, age=16, social_contacts=137, gender='male')),\n",
              " (User(id=5, age=35, social_contacts=247, gender='female'),\n",
              "  User(id=5, age=35, social_contacts=247, gender='female')),\n",
              " (User(id=6, age=31, social_contacts=521, gender='male'),\n",
              "  User(id=6, age=31, social_contacts=521, gender='male')),\n",
              " (User(id=7, age=32, social_contacts=749, gender='female'),\n",
              "  User(id=7, age=32, social_contacts=749, gender='female'))]"
            ]
          },
          "metadata": {},
          "execution_count": 82
        }
      ]
    },
    {
      "cell_type": "markdown",
      "metadata": {
        "id": "dQ8TuEbjv4J8"
      },
      "source": [
        "### Intersection (Пересечение)\n",
        "\n",
        "**The Map Function:** Превратите каждый кортеж $t$ в пары ключ-значение $(t, t)$.\n",
        "\n",
        "**The Reduce Function:** Если для ключа $t$ есть список из двух элементов $[t, t]$ $-$ создайте пару $(t, t)$. Иначе, ничего не создавайте."
      ]
    },
    {
      "cell_type": "code",
      "metadata": {
        "id": "XKlBZh4IwERR",
        "colab": {
          "base_uri": "https://localhost:8080/"
        },
        "outputId": "86af0caf-82de-4cf6-9898-fe7bc09b8b6d"
      },
      "source": [
        "# Группируем (по пользователям)\n",
        "def MAP_INTERSECTION(_, row: NamedTuple):\n",
        "    yield (row.id, row)\n",
        "\n",
        "\n",
        "# Если пользователь присутствует в обеих выборках, то возвращаем его\n",
        "def REDUCE_INTERSECTION(row_id: int, rows: Iterator[NamedTuple]):\n",
        "    if len(rows) == 2:\n",
        "        yield rows\n",
        "\n",
        "\n",
        "def RECORDREADER():\n",
        "    return [(u.id, u) for u in input_collection_a + input_collection_b]\n",
        "\n",
        "\n",
        "output = MapReduce(RECORDREADER, MAP_INTERSECTION, REDUCE_INTERSECTION)\n",
        "output = list(output)\n",
        "output"
      ],
      "execution_count": 83,
      "outputs": [
        {
          "output_type": "execute_result",
          "data": {
            "text/plain": [
              "[[User(id=5, age=35, social_contacts=247, gender='female'),\n",
              "  User(id=5, age=35, social_contacts=247, gender='female')]]"
            ]
          },
          "metadata": {},
          "execution_count": 83
        }
      ]
    },
    {
      "cell_type": "markdown",
      "metadata": {
        "id": "AVOpqoY3wE5k"
      },
      "source": [
        "### Difference (Разница)\n",
        "\n",
        "**The Map Function:** Для кортежа $t \\in R$, создайте пару $(t, R)$, и для кортежа $t \\in S$, создайте пару $(t, S)$. Задумка заключается в том, чтобы значение пары было именем отношения $R$ or $S$, которому принадлежит кортеж (а лучше, единичный бит, по которому можно два отношения различить $R$ or $S$), а не весь набор атрибутов отношения.\n",
        "\n",
        "**The Reduce Function:** Для каждого ключа $t$, если соответствующее значение является списком $[R]$, создайте пару $(t, t)$. В иных случаях не предпринимайте действий."
      ]
    },
    {
      "cell_type": "code",
      "metadata": {
        "id": "QE_AC09lwZIZ",
        "colab": {
          "base_uri": "https://localhost:8080/"
        },
        "outputId": "82ff6d70-df71-475b-ef80-e765fdaa0ada"
      },
      "source": [
        "# Группируем (по пользователям)\n",
        "def MAP_DIFFERENCE(collection_id, user):\n",
        "    yield (user, collection_id)\n",
        "\n",
        "\n",
        "# Возвращаем пользователей, которые входят в первую выборку и не входят во вторую\n",
        "def REDUCE_DIFFERENCE(user, collections):\n",
        "    if collections == [0]:\n",
        "        yield (user)\n",
        "\n",
        "\n",
        "# Генерируем список кортежей (на первом месте - номер выборки)\n",
        "def RECORDREADER():\n",
        "    return [(0, a) for a in input_collection_a] + [(1, b) for b in input_collection_b]\n",
        "\n",
        "\n",
        "output = MapReduce(RECORDREADER, MAP_DIFFERENCE, REDUCE_DIFFERENCE)\n",
        "output = list(output)\n",
        "output"
      ],
      "execution_count": 84,
      "outputs": [
        {
          "output_type": "execute_result",
          "data": {
            "text/plain": [
              "[User(id=1, age=54, social_contacts=20, gender='male'),\n",
              " User(id=2, age=25, social_contacts=239, gender='female'),\n",
              " User(id=3, age=27, social_contacts=638, gender='male'),\n",
              " User(id=4, age=16, social_contacts=137, gender='male')]"
            ]
          },
          "metadata": {},
          "execution_count": 84
        }
      ]
    },
    {
      "cell_type": "markdown",
      "metadata": {
        "id": "j8I58V2VwhSm"
      },
      "source": [
        "### Natural Join\n",
        "\n",
        "**The Map Function:** Для каждого кортежа $(a, b)$ отношения $R$, создайте пару $(b,(R, a))$. Для каждого кортежа $(b, c)$ отношения $S$, создайте пару $(b,(S, c))$.\n",
        "\n",
        "**The Reduce Function:** Каждый ключ $b$ будет асоциирован со списком пар, которые принимают форму либо $(R, a)$, либо $(S, c)$. Создайте все пары, одни, состоящие из  первого компонента $R$, а другие, из первого компонента $S$, то есть $(R, a)$ и $(S, c)$. На выходе вы получаете последовательность пар ключ-значение из списков ключей и значений. Ключ не нужен. Каждое значение, это тройка $(a, b, c)$ такая, что $(R, a)$ и $(S, c)$ это принадлежат входному списку значений."
      ]
    },
    {
      "cell_type": "code",
      "metadata": {
        "id": "yHiuuTctw86I",
        "colab": {
          "base_uri": "https://localhost:8080/"
        },
        "outputId": "d9d8e9a1-6a85-4e43-f076-6a67899d3b44"
      },
      "source": [
        "class User(NamedTuple):\n",
        "    id: int\n",
        "    age: str\n",
        "    social_contacts: int\n",
        "    gender: str\n",
        "    language_id: int\n",
        "\n",
        "# коллекция первая\n",
        "users_collection = [\n",
        "    User(id=1, age=54, gender=\"male\", social_contacts=20, language_id=1),\n",
        "    User(id=2, age=25, gender=\"female\", social_contacts=240, language_id=2),\n",
        "    User(id=3, age=27, gender=\"male\", social_contacts=642, language_id=2),\n",
        "    User(id=4, age=16, gender=\"male\", social_contacts=123, language_id=3),\n",
        "    User(id=5, age=35, gender=\"female\", social_contacts=247, language_id=4),\n",
        "]\n",
        "\n",
        "\n",
        "class Language(NamedTuple):\n",
        "    id: int\n",
        "    name: str\n",
        "\n",
        "# коллекция вторая\n",
        "language_collection = [\n",
        "    Language(id=1, name=\"English\"),\n",
        "    Language(id=2, name=\"Spanish\"),\n",
        "    Language(id=3, name=\"German\"),\n",
        "    Language(id=4, name=\"French\"),\n",
        "    Language(id=5, name=\"Turkish\"),\n",
        "]\n",
        "\n",
        "# Группировка пользователей по id языка\n",
        "def MAP_JOIN(language_id, row):\n",
        "    yield (language_id, row)\n",
        "\n",
        "\n",
        "def REDUCE_JOIN(language_id, rows):\n",
        "    users = []\n",
        "    language  = None\n",
        "\n",
        "    # определяем язык\n",
        "    for row in rows:\n",
        "        if type(row) is User:\n",
        "            users += [row]\n",
        "        else:\n",
        "            language = row\n",
        "\n",
        "    for row in rows:\n",
        "        if type(row) is User:\n",
        "            # возвращаем тройки (a,b,c), где a - пользователь, b - id языка, c - язык\n",
        "            yield (row, row.language_id, language)\n",
        "\n",
        "# Генерируем список кортежей (id языка, язык или пользователь)\n",
        "def RECORDREADER():\n",
        "    return [(user.language_id, user) for user in users_collection] + [\n",
        "        (language.id, language) for language in language_collection\n",
        "    ]\n",
        "\n",
        "\n",
        "output = MapReduce(RECORDREADER, MAP_JOIN, REDUCE_JOIN)\n",
        "output = list(output)\n",
        "joined_data = output\n",
        "joined_data"
      ],
      "execution_count": 85,
      "outputs": [
        {
          "output_type": "execute_result",
          "data": {
            "text/plain": [
              "[(User(id=1, age=54, social_contacts=20, gender='male', language_id=1),\n",
              "  1,\n",
              "  Language(id=1, name='English')),\n",
              " (User(id=2, age=25, social_contacts=240, gender='female', language_id=2),\n",
              "  2,\n",
              "  Language(id=2, name='Spanish')),\n",
              " (User(id=3, age=27, social_contacts=642, gender='male', language_id=2),\n",
              "  2,\n",
              "  Language(id=2, name='Spanish')),\n",
              " (User(id=4, age=16, social_contacts=123, gender='male', language_id=3),\n",
              "  3,\n",
              "  Language(id=3, name='German')),\n",
              " (User(id=5, age=35, social_contacts=247, gender='female', language_id=4),\n",
              "  4,\n",
              "  Language(id=4, name='French'))]"
            ]
          },
          "metadata": {},
          "execution_count": 85
        }
      ]
    },
    {
      "cell_type": "markdown",
      "metadata": {
        "id": "kYdlr0YUxE27"
      },
      "source": [
        "### Grouping and Aggregation (Группировка и аггрегация)\n",
        "\n",
        "**The Map Function:** Для каждого кортежа $(a, b, c$) создайте пару $(a, b)$.\n",
        "\n",
        "**The Reduce Function:** Ключ представляет ту или иную группу. Примение аггрегирующую операцию $\\theta$ к списку значений $[b1, b2, . . . , bn]$ ассоциированных с ключом $a$. Возвращайте в выходной поток $(a, x)$, где $x$ результат применения  $\\theta$ к списку. Например, если $\\theta$ это $SUM$, тогда $x = b1 + b2 + · · · + bn$, а если $\\theta$ is $MAX$, тогда $x$ это максимальное из значений $b1, b2, . . . , bn$."
      ]
    },
    {
      "cell_type": "code",
      "metadata": {
        "id": "MLPckfEGxico",
        "colab": {
          "base_uri": "https://localhost:8080/"
        },
        "outputId": "f4ad2bb0-463c-47b8-b903-bbc618a00777"
      },
      "source": [
        "# Группируем по id языка\n",
        "def MAP_GROUP(language_id, user, language):\n",
        "    yield (language_id, user)\n",
        "\n",
        "\n",
        "# Находим количество пользователей в каждом из языков\n",
        "def REDUCE_GROUP(language_id, rows):\n",
        "    yield f\"language with id={language_id} has {len(rows)} user(s)\"\n",
        "\n",
        "\n",
        "def RECORDREADER():\n",
        "    return [(language_id, user, language) for user, language_id, language in joined_data]\n",
        "\n",
        "\n",
        "output = MapReduce(RECORDREADER, MAP_GROUP, REDUCE_GROUP)\n",
        "output = list(output)\n",
        "output"
      ],
      "execution_count": 86,
      "outputs": [
        {
          "output_type": "execute_result",
          "data": {
            "text/plain": [
              "['language with id=1 has 1 user(s)',\n",
              " 'language with id=2 has 2 user(s)',\n",
              " 'language with id=3 has 1 user(s)',\n",
              " 'language with id=4 has 1 user(s)']"
            ]
          },
          "metadata": {},
          "execution_count": 86
        }
      ]
    },
    {
      "cell_type": "markdown",
      "metadata": {
        "id": "03IffTEOJgOb"
      },
      "source": [
        "#"
      ]
    },
    {
      "cell_type": "markdown",
      "metadata": {
        "id": "IIrRgvG4RIS4"
      },
      "source": [
        "### Matrix-Vector multiplication\n",
        "\n",
        "Случай, когда вектор не помещается в памяти Map задачи\n"
      ]
    },
    {
      "cell_type": "code",
      "metadata": {
        "id": "KQhDbiL3zS9r"
      },
      "source": [],
      "execution_count": 86,
      "outputs": []
    },
    {
      "cell_type": "markdown",
      "metadata": {
        "id": "GIo2t7nNxvA9"
      },
      "source": [
        "## Matrix multiplication (Перемножение матриц)\n",
        "\n",
        "Если у нас есть матрица $M$ с элементами $m_{ij}$ в строке $i$ и столбце $j$, и матрица $N$ с элементами $n_{jk}$ в строке $j$ и столбце $k$, тогда их произведение $P = MN$ есть матрица $P$ с элементами $p_{ik}$ в строке $i$ и столбце $k$, где\n",
        "\n",
        "$$p_{ik} =\\sum_{j} m_{ij}n_{jk}$$\n",
        "\n",
        "Необходимым требованием является одинаковое количество столбцов в $M$ и строк в $N$, чтобы операция суммирования по  $j$ была осмысленной. Мы можем размышлять о матрице, как об отношении с тремя атрибутами: номер строки, номер столбца, само значение. Таким образом матрица $M$ предстваляется как отношение $ M(I, J, V )$, с кортежами $(i, j, m_{ij})$, и, аналогично, матрица $N$ представляется как отношение $N(J, K, W)$, с кортежами $(j, k, n_{jk})$. Так как большие матрицы как правило разреженные (большинство значений равно 0), и так как мы можем нулевыми значениями пренебречь (не хранить), такое реляционное представление достаточно эффективно для больших матриц. Однако, возможно, что координаты $i$, $j$, и $k$ неявно закодированы в смещение позиции элемента относительно начала файла, вместо явного хранения. Тогда, функция Map (или Reader) должна быть разработана таким образом, чтобы реконструировать компоненты $I$, $J$, и $K$ кортежей из смещения.\n",
        "\n",
        "Произведение $MN$ это фактически join, за которым следуют группировка по ключу и аггрегация. Таким образом join отношений $M(I, J, V )$ и $N(J, K, W)$, имеющих общим только атрибут $J$, создаст кортежи $(i, j, k, v, w)$ из каждого кортежа $(i, j, v) \\in M$ и кортежа $(j, k, w) \\in N$. Такой 5 компонентный кортеж представляет пару элементов матрицы $(m_{ij} , n_{jk})$. Что нам хотелось бы получить на самом деле, это произведение этих элементов, то есть, 4 компонентный кортеж$(i, j, k, v \\times w)$, так как он представляет произведение $m_{ij}n_{jk}$. Мы представляем отношение как результат одной MapReduce операции, в которой мы можем произвести группировку и аггрегацию, с $I$ и $K$  атрибутами, по которым идёт группировка, и суммой  $V \\times W$.\n",
        "\n",
        "\n",
        "\n"
      ]
    },
    {
      "cell_type": "code",
      "metadata": {
        "id": "1MBkGaLAYVCt"
      },
      "source": [
        "# MapReduce model\n",
        "def flatten(nested_iterable):\n",
        "  for iterable in nested_iterable:\n",
        "    for element in iterable:\n",
        "      yield element\n",
        "\n",
        "def groupbykey(iterable):\n",
        "  t = {}\n",
        "  for (k2, v2) in iterable:\n",
        "    t[k2] = t.get(k2, []) + [v2]\n",
        "  return t.items()\n",
        "\n",
        "def MapReduce(RECORDREADER, MAP, REDUCE):\n",
        "  return flatten(map(lambda x: REDUCE(*x), groupbykey(flatten(map(lambda x: MAP(*x), RECORDREADER())))))"
      ],
      "execution_count": 87,
      "outputs": []
    },
    {
      "cell_type": "markdown",
      "metadata": {
        "id": "sMspsOT0ZB35"
      },
      "source": [
        "Реализуйте перемножение матриц с использованием модельного кода MapReduce для одной машины в случае, когда одна матрица хранится в памяти, а другая генерируется RECORDREADER-ом."
      ]
    },
    {
      "cell_type": "code",
      "metadata": {
        "id": "psP1XekbsEjS"
      },
      "source": [
        "import numpy as np\n",
        "\n",
        "# задаем значения компонентам\n",
        "I = 2\n",
        "J = 3\n",
        "K = 4 * 10\n",
        "small_mat = np.random.rand(I, J)  # it is legal to access this from RECORDREADER, MAP, REDUCE\n",
        "big_mat = np.random.rand(J, K)\n",
        "\n",
        "\n",
        "\n",
        "def RECORDREADER():\n",
        "  # генерируем элементы второй матрицы с их индексами\n",
        "    for j in range(big_mat.shape[0]):\n",
        "        for k in range(big_mat.shape[1]):\n",
        "            yield ((j, k), big_mat[j, k])\n",
        "\n",
        "\n",
        "# Используем сгенерированные элементы 2-й матрицы и возвращаем\n",
        "# их произведения между соответствующими элементами 1-й матрицы.\n",
        "def MAP(k1, v1):\n",
        "    (j, k) = k1\n",
        "    w = v1\n",
        "    for i in range(I):\n",
        "        k2 = (i, k)\n",
        "        v2 = small_mat[i, j] * w\n",
        "        yield (k2, v2)\n",
        "\n",
        "# Суммируем полученные произведения\n",
        "def REDUCE(key, values):\n",
        "    (i, k) = key\n",
        "    k3 = (i, k)\n",
        "    v3 = 0\n",
        "    for j in range(J):\n",
        "        v3 += values[j]\n",
        "    yield (k3, v3)"
      ],
      "execution_count": 88,
      "outputs": []
    },
    {
      "cell_type": "markdown",
      "metadata": {
        "id": "rnt306LHhHrm"
      },
      "source": [
        "Проверьте своё решение"
      ]
    },
    {
      "cell_type": "code",
      "metadata": {
        "id": "Ewy_ZNYqW5a2",
        "colab": {
          "base_uri": "https://localhost:8080/"
        },
        "outputId": "cf1e22dd-7c3b-4950-8415-287fdd2e4878"
      },
      "source": [
        "# CHECK THE SOLUTION\n",
        "reference_solution = np.matmul(small_mat, big_mat)\n",
        "solution = MapReduce(RECORDREADER, MAP, REDUCE)\n",
        "\n",
        "def asmatrix(reduce_output):\n",
        "  reduce_output = list(reduce_output)\n",
        "  I = max(i for ((i,k), vw) in reduce_output)+1\n",
        "  K = max(k for ((i,k), vw) in reduce_output)+1\n",
        "  mat = np.empty(shape=(I,K))\n",
        "  for ((i,k), vw) in reduce_output:\n",
        "    mat[i,k] = vw\n",
        "  return mat\n",
        "\n",
        "np.allclose(reference_solution, asmatrix(solution)) # should return true"
      ],
      "execution_count": 89,
      "outputs": [
        {
          "output_type": "execute_result",
          "data": {
            "text/plain": [
              "True"
            ]
          },
          "metadata": {},
          "execution_count": 89
        }
      ]
    },
    {
      "cell_type": "code",
      "metadata": {
        "id": "TK7v4CEcfxqf",
        "colab": {
          "base_uri": "https://localhost:8080/"
        },
        "outputId": "959c3672-ed5e-410f-ba77-c438e7df6cfd"
      },
      "source": [
        "reduce_output = list(MapReduce(RECORDREADER, MAP, REDUCE))\n",
        "max(i for ((i,k), vw) in reduce_output)"
      ],
      "execution_count": 90,
      "outputs": [
        {
          "output_type": "execute_result",
          "data": {
            "text/plain": [
              "1"
            ]
          },
          "metadata": {},
          "execution_count": 90
        }
      ]
    },
    {
      "cell_type": "markdown",
      "metadata": {
        "id": "i4yyg3kOZqJJ"
      },
      "source": [
        "Реализуйте перемножение матриц  с использованием модельного кода MapReduce для одной машины в случае, когда обе матрицы генерируются в RECORDREADER. Например, сначала одна, а потом другая."
      ]
    },
    {
      "cell_type": "code",
      "metadata": {
        "id": "3B7rIAJCaHZq",
        "colab": {
          "base_uri": "https://localhost:8080/"
        },
        "outputId": "fb1a307d-c992-49ab-d9b2-39831260190c"
      },
      "source": [
        "I = 2\n",
        "J = 3\n",
        "K = 4 * 10\n",
        "small_mat = np.random.rand(I, J)\n",
        "big_mat = np.random.rand(J, K)\n",
        "\n",
        "\n",
        "# Генерируем пары элементов из матриц вместе с индексами, которые соответствуют им\n",
        "def RECORDREADER():\n",
        "    for i in range(I):\n",
        "        for j in range(J):\n",
        "            for k in range(K):\n",
        "                yield (((i, j), small_mat[i, j]), ((j, k), big_mat[j, k]))\n",
        "\n",
        "\n",
        "# Перемножаем полученные элементы двух матриц\n",
        "# И группируем произведения по индексу (в результирующей матрице)\n",
        "def MAP(element1, element2):\n",
        "    (i, j), v1 = element1\n",
        "    (j, k), v2 = element2\n",
        "\n",
        "    yield ((i, k), v1 * v2)\n",
        "\n",
        "# Суммируем полученные произведения для вычисления результирующей матрицы\n",
        "def REDUCE(key, values):\n",
        "    (i, k) = key\n",
        "    k3 = (i, k)\n",
        "    v3 = 0\n",
        "    for j in range(J):\n",
        "        v3 += values[j]\n",
        "\n",
        "    yield (k3, v3)\n",
        "\n",
        "# Проверим себя ниже\n",
        "reference_solution = np.matmul(small_mat, big_mat)\n",
        "solution = MapReduce(RECORDREADER, MAP, REDUCE)\n",
        "\n",
        "\n",
        "def asmatrix(reduce_output):\n",
        "    reduce_output = list(reduce_output)\n",
        "    I = max(i for ((i, k), vw) in reduce_output) + 1\n",
        "    K = max(k for ((i, k), vw) in reduce_output) + 1\n",
        "    mat = np.empty(shape=(I, K))\n",
        "    for (i, k), vw in reduce_output:\n",
        "        mat[i, k] = vw\n",
        "    return mat\n",
        "\n",
        "\n",
        "np.allclose(reference_solution, asmatrix(solution))  # should return true"
      ],
      "execution_count": 91,
      "outputs": [
        {
          "output_type": "execute_result",
          "data": {
            "text/plain": [
              "True"
            ]
          },
          "metadata": {},
          "execution_count": 91
        }
      ]
    },
    {
      "cell_type": "markdown",
      "metadata": {
        "id": "mXyzQi1DaIwo"
      },
      "source": [
        "Реализуйте перемножение матриц с использованием модельного кода MapReduce Distributed, когда каждая матрица генерируется в своём RECORDREADER."
      ]
    },
    {
      "cell_type": "code",
      "metadata": {
        "id": "TDM_s78Rb5eR",
        "colab": {
          "base_uri": "https://localhost:8080/"
        },
        "outputId": "2365031b-b024-4e44-e202-c20efcbf6a2d"
      },
      "source": [
        "maps = 2\n",
        "reducers = 2\n",
        "\n",
        "\n",
        "def INPUTFORMAT():\n",
        "    global maps\n",
        "\n",
        "    # Генерируем пары элементов из обеих матриц\n",
        "    def RECORDREADER(i_range):\n",
        "        for i in i_range:\n",
        "            for j in range(J):\n",
        "                for k in range(K):\n",
        "                    yield (((i, j), small_mat[i, j]), ((j, k), big_mat[j, k]))\n",
        "\n",
        "    # По строкам первой матрицы происзводим разделение между вычислительными узлами\n",
        "    split_size = int(np.ceil(I / maps))\n",
        "    for i in range(0, I, split_size):\n",
        "        yield RECORDREADER(range(i, i + split_size))\n",
        "\n",
        "\n",
        "# Возвращаем произведения соответствующих элементов из обеих матриц\n",
        "# И группируем их по индексу в результирующей матрице\n",
        "def MAP(element1, element2):\n",
        "    (i, j), v1 = element1\n",
        "    (j, k), v2 = element2\n",
        "\n",
        "    yield ((i, k), v1 * v2)\n",
        "\n",
        "\n",
        "# Суммируем полученные произведения\n",
        "def REDUCE(key, values):\n",
        "    (i, k) = key\n",
        "    k3 = (i, k)\n",
        "    v3 = 0\n",
        "    for j in range(J):\n",
        "        v3 += values[j]\n",
        "\n",
        "    yield (k3, v3)\n",
        "\n",
        "\n",
        "partitioned_output = MapReduceDistributed(INPUTFORMAT, MAP, REDUCE, COMBINER=None)\n",
        "partitioned_output = [\n",
        "    (partition_id, list(partition)) for (partition_id, partition) in partitioned_output\n",
        "]\n",
        "\n",
        "# Соединяем полученные произведения с разных вычислительных узлов\n",
        "solution = []\n",
        "for output_part in partitioned_output:\n",
        "    for element in output_part[1]:\n",
        "        solution += [element]\n",
        "# Проверяем себя\n",
        "print(asmatrix(solution))\n",
        "np.allclose(reference_solution, asmatrix(solution))  # should return true"
      ],
      "execution_count": 92,
      "outputs": [
        {
          "output_type": "stream",
          "name": "stdout",
          "text": [
            "240 key-value pairs were sent over a network.\n",
            "[[0.72349065 0.43745608 0.47359346 0.42930948 0.95575864 0.31769992\n",
            "  0.28434783 1.02167551 0.72619718 1.06958981 0.86273571 0.5097025\n",
            "  0.10226594 0.94871701 1.11911668 0.84670762 1.09138556 0.96577767\n",
            "  0.35283332 1.07824859 0.66896702 1.12673701 0.77449634 0.33300847\n",
            "  0.58343332 0.90849585 0.81482154 0.97108185 0.66252061 0.95104494\n",
            "  0.26009097 1.3103634  0.53202327 0.94805064 1.32051586 0.6565518\n",
            "  0.99724975 0.43730428 0.857062   0.72038694]\n",
            " [0.71163072 0.57311552 0.64739693 0.39686203 0.85276281 0.52305305\n",
            "  0.31455424 0.72665734 0.4817421  0.86056542 0.8846199  0.56361425\n",
            "  0.35689727 0.6891217  0.88936576 0.77131603 0.94150315 0.72541664\n",
            "  0.48257646 1.05913198 0.56532165 1.13718965 0.66877568 0.41098748\n",
            "  0.52344291 0.96591908 0.71560503 0.90302811 0.62739845 0.74444981\n",
            "  0.39368795 1.26953265 0.75234896 0.9563454  1.11479957 0.67923082\n",
            "  0.96829337 0.44133364 0.60344232 0.66639966]]\n"
          ]
        },
        {
          "output_type": "execute_result",
          "data": {
            "text/plain": [
              "True"
            ]
          },
          "metadata": {},
          "execution_count": 92
        }
      ]
    },
    {
      "cell_type": "markdown",
      "metadata": {
        "id": "ZuSA2P9Db6UM"
      },
      "source": [
        "Обобщите предыдущее решение на случай, когда каждая матрица генерируется несколькими RECORDREADER-ами, и проверьте его работоспособность. Будет ли работать решение, если RECORDREADER-ы будут генерировать случайное подмножество элементов матрицы?"
      ]
    },
    {
      "cell_type": "markdown",
      "source": [
        "Решение будет работать, так как каждая пара элементов, генерируемая RECORDREADER, идентифицируется по ее индексам. Также следует учитывать, что RECORDREADER-ы могут генерировать случайное пожмножество элементов в матрице (здесь мы для каждой матрицы реализуем свой RECORDREADER-ы)."
      ],
      "metadata": {
        "id": "Ih42IsJGftoc"
      }
    }
  ]
}